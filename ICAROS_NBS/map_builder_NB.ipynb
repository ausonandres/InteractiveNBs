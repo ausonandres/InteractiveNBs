{
 "cells": [
  {
   "cell_type": "markdown",
   "metadata": {},
   "source": [
    "# Demostration of ICAROS"
   ]
  },
  {
   "cell_type": "markdown",
   "metadata": {},
   "source": [
    "## The purpose of this NB is: \n",
    "\n",
    "- Selecting events.\n",
    "\n",
    "- Checking run conditions are normal.\n",
    "\n",
    "- Computing XY correction maps.\n"
   ]
  },
  {
   "cell_type": "markdown",
   "metadata": {},
   "source": [
    "## It is divided into three main sections:\n",
    "\n",
    "1. __Section A:__ Map building with the automatic script that will be run by the shifter in Canfranc.\n",
    "\n",
    "2. __Section B:__ Dissection of the script, function by function, to show the performance of each one.\n",
    "\n",
    "2. __Section C:__ In case the map is produced, map checking."
   ]
  },
  {
   "cell_type": "markdown",
   "metadata": {},
   "source": [
    "### Three different optional runs are considered:\n",
    "\n",
    "- __7546__ (LB phys.)__:__ Regular low background physiscs. It should pass all checks and produce the map.\n",
    "\n",
    "- __7376__ (HE calib.)__:__ This run was taken during the S1 issue, so the temporal distribution of events is not flat and exception should be raised in the first rate checking.\n",
    "\n",
    "- __7552__ (LB phys.)__:__  In this case, the gate voltage was changed from 7.7kV to 7.0kV during the run. The gain will take two different values, so there will be two different bands in the plot: E vs Z, and the band selection efficiency should be out of range. \n",
    "\n",
    "So, only in first case correction maps will be produced.\n"
   ]
  },
  {
   "cell_type": "code",
   "execution_count": null,
   "metadata": {},
   "outputs": [],
   "source": [
    "import os\n",
    "import logging\n",
    "import warnings\n",
    "warnings.filterwarnings(\"ignore\")\n",
    "logging.disable(logging.DEBUG)\n",
    "this_script_logger = logging.getLogger(__name__)\n",
    "this_script_logger.setLevel(logging.INFO)"
   ]
  },
  {
   "cell_type": "markdown",
   "metadata": {},
   "source": [
    "*Add mmkekic remote and checkout clean_krcal branch:*"
   ]
  },
  {
   "cell_type": "code",
   "execution_count": null,
   "metadata": {
    "scrolled": true
   },
   "outputs": [],
   "source": [
    "%%capture\n",
    "! cd $HOME/ICAROS; git remote add mmkekic https://github.com/mmkekic/ICAROS.git; git fetch mmkekic; git checkout mmkekic/clean_krcalib; cd -;"
   ]
  },
  {
   "cell_type": "markdown",
   "metadata": {},
   "source": [
    "_Possible run numbers are:_"
   ]
  },
  {
   "cell_type": "code",
   "execution_count": null,
   "metadata": {},
   "outputs": [],
   "source": [
    "possible_runs = [7546, 7552, 7376]"
   ]
  },
  {
   "cell_type": "markdown",
   "metadata": {},
   "source": [
    "**Set run number**"
   ]
  },
  {
   "cell_type": "code",
   "execution_count": null,
   "metadata": {},
   "outputs": [],
   "source": [
    "run_number = 7552\n",
    "assert run_number in possible_runs"
   ]
  },
  {
   "cell_type": "markdown",
   "metadata": {},
   "source": [
    "*Download data*"
   ]
  },
  {
   "cell_type": "code",
   "execution_count": null,
   "metadata": {},
   "outputs": [],
   "source": [
    "%%capture\n",
    "! wget https://www.dropbox.com/s/3ky8js2yekh4sqw/kr_emap_xy_100_100_r_6573_time.h5\n",
    "! wget https://www.dropbox.com/s/5n9gj9wjcz70na7/z_dst_LB_mean_ref.h5\n",
    "! wget https://www.dropbox.com/s/lsb0xxu6qfqur2g/z_dst_HE_mean_ref.h5"
   ]
  },
  {
   "cell_type": "code",
   "execution_count": null,
   "metadata": {
    "scrolled": true
   },
   "outputs": [],
   "source": [
    "%%capture\n",
    "\n",
    "folder_dst       = './'\n",
    "\n",
    "if run_number==7546:\n",
    "    dst_file       = 'kdst_{0}_v1.1.0_20190801_krbg_0-1500.h5'.format(run_number)\n",
    "    config_file    = '$ICARO/krcal/map_builder/config_LBphys.conf'\n",
    "    ref_histo_file = 'z_dst_LB_mean_ref.h5'\n",
    "    if not os.path.exists(folder_dst+dst_file):\n",
    "        ! wget https://www.dropbox.com/s/i2zt3m58tacyqi9/kdst_7546_v1.1.0_20190801_krbg_0-1500.h5\n",
    "    \n",
    "elif run_number==7552:\n",
    "    dst_file       = 'kdst_{0}_v1.1.0_20190801_krbg_1300-2582.h5'.format(run_number)\n",
    "    config_file    = '$ICARO/krcal/map_builder/config_LBphys.conf'\n",
    "    ref_histo_file = 'z_dst_LB_mean_ref.h5'\n",
    "    if not os.path.exists(folder_dst+dst_file):\n",
    "        ! wget https://www.dropbox.com/s/lx4c62vxxgoope8/kdst_7552_v1.1.0_20190801_krbg_1300-2582.h5\n",
    "\n",
    "elif run_number==7376:\n",
    "    dst_file       = 'kdst_{0}_v0.9.9_20190111_krbg_0-3000.h5'.format(run_number)\n",
    "    config_file    = '$ICARO/krcal/map_builder/config_HEcal.conf'\n",
    "    ref_histo_file = 'z_dst_HE_mean_ref.h5'\n",
    "    if not os.path.exists(folder_dst+dst_file):\n",
    "        ! wget https://www.dropbox.com/s/m1hvjy45b803xe1/kdst_7376_v0.9.9_20190111_krbg_0-3000.h5"
   ]
  },
  {
   "cell_type": "markdown",
   "metadata": {},
   "source": [
    "*Set input/output variables and configuration file*"
   ]
  },
  {
   "cell_type": "code",
   "execution_count": null,
   "metadata": {},
   "outputs": [],
   "source": [
    "from invisible_cities.core.configure         import configure\n",
    "\n",
    "output_maps_file = './'\n",
    "\n",
    "file_bootstrap   = 'kr_emap_xy_100_100_r_6573_time.h5'\n",
    "map_file_out     = os.path.join(output_maps_file, 'map_{0}.h5'.format(run_number)   )\n",
    "histo_file_out   = os.path.join(output_maps_file, 'histos_{0}.h5'.format(run_number))\n",
    "\n",
    "print('Input dst: ', folder_dst + dst_file)\n",
    "print('Output map file: ', map_file_out)\n",
    "print('Output histograms file: ', histo_file_out)\n",
    "\n",
    "ref_Z_histogram = dict(\n",
    "                    ref_histo_file = ref_histo_file,\n",
    "                    key_Z_histo    = 'histo_Z_dst') \n",
    "\n",
    "config = configure(f'maps {config_file}'.split())\n",
    "\n",
    "config.update(dict(folder             = folder_dst     ,\n",
    "                   file_in            = dst_file       ,\n",
    "                   file_out_map       = map_file_out   ,\n",
    "                   file_out_hists     = histo_file_out ,\n",
    "                   ref_Z_histogram    = ref_Z_histogram,\n",
    "                   run_number         = run_number     ,\n",
    "                   file_bootstrap_map = file_bootstrap))"
   ]
  },
  {
   "cell_type": "markdown",
   "metadata": {},
   "source": [
    "****"
   ]
  },
  {
   "cell_type": "markdown",
   "metadata": {},
   "source": [
    "# Section A: Automatic Script"
   ]
  },
  {
   "cell_type": "code",
   "execution_count": null,
   "metadata": {
    "scrolled": true
   },
   "outputs": [],
   "source": [
    "from krcal.map_builder.map_builder_functions import map_builder\n",
    "\n",
    "map_builder(config.as_namespace)"
   ]
  },
  {
   "cell_type": "markdown",
   "metadata": {},
   "source": [
    "### To check produced map go directly to [Section C.](#SectionC)"
   ]
  },
  {
   "cell_type": "markdown",
   "metadata": {},
   "source": [
    "***"
   ]
  },
  {
   "cell_type": "markdown",
   "metadata": {},
   "source": [
    "# Section B: Function by function"
   ]
  },
  {
   "cell_type": "markdown",
   "metadata": {},
   "source": [
    "#### Imports"
   ]
  },
  {
   "cell_type": "code",
   "execution_count": null,
   "metadata": {},
   "outputs": [],
   "source": [
    "import pandas as pd\n",
    "import numpy  as np\n",
    "import matplotlib.pyplot as plt\n",
    "\n",
    "from krcal.map_builder.map_builder_functions  import load_data\n",
    "from krcal.map_builder.map_builder_functions  import check_rate_and_hist\n",
    "from krcal.map_builder.map_builder_functions  import selection_nS_mask_and_checking\n",
    "from krcal.core.kr_types                      import type_of_signal\n",
    "from krcal.map_builder.map_builder_functions  import check_Z_dst\n",
    "from krcal.map_builder.map_builder_functions  import band_selector_and_check\n",
    "from krcal.map_builder.map_builder_functions  import get_binning_auto\n",
    "from krcal.map_builder.map_builder_functions  import calculate_map\n",
    "from krcal.core.kr_types                      import FitType\n",
    "from krcal.core.selection_functions           import selection_in_band\n",
    "\n",
    "from krcal.map_builder.map_builder_functions  import check_failed_fits\n",
    "from krcal.map_builder.map_builder_functions  import regularize_map\n",
    "from krcal.map_builder.map_builder_functions  import remove_peripheral\n",
    "from krcal.map_builder.map_builder_functions  import add_krevol\n",
    "from invisible_cities.reco.corrections_new    import read_maps\n",
    "from krcal.map_builder.map_builder_functions  import e0_xy_correction\n",
    "\n",
    "from krcal.core.io_functions                  import write_complete_maps\n",
    "from krcal.core.selection_functions           import get_time_series_df\n",
    "\n",
    "from krcal.NB_utils   .xy_maps_functions     import draw_xy_maps\n",
    "from krcal.core       .map_functions         import relative_errors\n",
    "from krcal.core       .map_functions         import add_mapinfo\n",
    "\n",
    "from invisible_cities.reco.corrections_new import apply_all_correction\n",
    "\n",
    "from krcal.NB_utils.plt_functions                import plot_s1histos\n",
    "from krcal.NB_utils.plt_functions                import s1d_from_dst\n",
    "from krcal.NB_utils.plt_functions                import plot_s2histos\n",
    "from krcal.NB_utils.plt_functions                import s2d_from_dst\n",
    "from krcal.NB_utils.plt_functions                import plot_selection_in_band\n",
    "\n",
    "from krcal.core.core_functions                import time_delta_from_time\n",
    "from krcal.core.fitmap_functions              import time_fcs_df\n",
    "from krcal.NB_utils.plt_functions             import plot_time_fcs\n",
    "\n",
    "from invisible_cities.core.configure          import configure"
   ]
  },
  {
   "cell_type": "markdown",
   "metadata": {},
   "source": [
    "#### Loading data (only events inside detector chamber; i.e. R<=200)"
   ]
  },
  {
   "cell_type": "code",
   "execution_count": null,
   "metadata": {},
   "outputs": [],
   "source": [
    "config_values  = config.as_namespace\n",
    "quality_ranges = config_values.quality_ranges\n",
    "print(' Only events with R smaller than {}'.format(quality_ranges['r_max']))\n",
    "inputs = load_data(input_path         = folder_dst                       ,\n",
    "                   input_dsts         = dst_file                         ,\n",
    "                   file_bootstrap_map = file_bootstrap                   ,\n",
    "                   ref_histo_file     = ref_Z_histogram['ref_histo_file'],\n",
    "                   key_Z_histo        = ref_Z_histogram['key_Z_histo']   ,\n",
    "                   quality_ranges     = quality_ranges                   )\n",
    "\n",
    "dst, bootstrapmap, ref_histos = inputs[0], inputs[1], inputs[2]"
   ]
  },
  {
   "cell_type": "markdown",
   "metadata": {},
   "source": [
    "### 1st check: rate before selection"
   ]
  },
  {
   "cell_type": "code",
   "execution_count": null,
   "metadata": {},
   "outputs": [],
   "source": [
    "with pd.HDFStore(histo_file_out, \"w\", complib=str(\"zlib\"), complevel=4) as store_hist:\n",
    "    check_rate_and_hist(times      = dst.time                ,\n",
    "                        output_f   = store_hist              ,\n",
    "                        name_table = \"rate_before_sel\"       ,\n",
    "                        n_dev      = config_values.n_dev_rate,\n",
    "                        bin_size   = 180                     ,\n",
    "                        normed     = False                   )"
   ]
  },
  {
   "cell_type": "code",
   "execution_count": null,
   "metadata": {},
   "outputs": [],
   "source": [
    "rate_before_hist = pd.read_hdf(histo_file_out, key='rate_before_sel')\n",
    "plt.figure(figsize=(15,7));\n",
    "plt.step(rate_before_hist.magnitude, rate_before_hist.entries, where='pre');\n",
    "plt.xlabel('Time (s)');\n",
    "plt.ylabel('Entries');\n",
    "plt.title('Rate before');"
   ]
  },
  {
   "cell_type": "markdown",
   "metadata": {},
   "source": [
    "## Event selection"
   ]
  },
  {
   "cell_type": "markdown",
   "metadata": {},
   "source": [
    "### nS1 selection (2nd check)"
   ]
  },
  {
   "cell_type": "code",
   "execution_count": null,
   "metadata": {},
   "outputs": [],
   "source": [
    "nS1_eff_interval = (config_values.nS1_eff_min, config_values.nS1_eff_max)\n",
    "with pd.HDFStore(histo_file_out, \"w\", complib=str(\"zlib\"), complevel=4) as store_hist:\n",
    "    mask_s1 = selection_nS_mask_and_checking(dst        = dst               ,\n",
    "                                             column     = type_of_signal.nS1,\n",
    "                                             interval   = nS1_eff_interval  ,\n",
    "                                             output_f   = store_hist        ,\n",
    "                                             input_mask = None              ,\n",
    "                                             nbins_hist = 10                ,\n",
    "                                             range_hist = (0,10)            ,\n",
    "                                             norm       = True              )"
   ]
  },
  {
   "cell_type": "code",
   "execution_count": null,
   "metadata": {},
   "outputs": [],
   "source": [
    "s1_hist = pd.read_hdf(histo_file_out, key='nS1')\n",
    "plt.figure(figsize=(7,5));\n",
    "plt.step(s1_hist.magnitude, s1_hist.entries, where='pre');\n",
    "plt.xlabel('nS1');\n",
    "plt.ylabel('Entries');\n",
    "plt.title('Number of S1 signals');"
   ]
  },
  {
   "cell_type": "code",
   "execution_count": null,
   "metadata": {},
   "outputs": [],
   "source": [
    "eff = dst[mask_s1].event.nunique()/dst.event.nunique()\n",
    "print('S1 selection efficiency: ', eff*100, '%')"
   ]
  },
  {
   "cell_type": "markdown",
   "metadata": {},
   "source": [
    "*Some other S1 plots:*"
   ]
  },
  {
   "cell_type": "code",
   "execution_count": null,
   "metadata": {},
   "outputs": [],
   "source": [
    "s1d = s1d_from_dst(dst)\n",
    "plot_s1histos(dst,  s1d, bins=20, figsize=(10,10))"
   ]
  },
  {
   "cell_type": "markdown",
   "metadata": {},
   "source": [
    "### nS2 selection (3rd chech)"
   ]
  },
  {
   "cell_type": "code",
   "execution_count": null,
   "metadata": {},
   "outputs": [],
   "source": [
    "nS2_eff_interval = (config_values.nS2_eff_min, config_values.nS2_eff_max)\n",
    "with pd.HDFStore(histo_file_out, \"r+\", complib=str(\"zlib\"), complevel=4) as store_hist:\n",
    "    mask_s2 = selection_nS_mask_and_checking(dst        = dst               ,\n",
    "                                             column     = type_of_signal.nS2,\n",
    "                                             interval   = nS2_eff_interval  ,\n",
    "                                             output_f   = store_hist        ,\n",
    "                                             input_mask = mask_s1           ,\n",
    "                                             nbins_hist = 10                ,\n",
    "                                             range_hist = (0,10)            ,\n",
    "                                             norm       = True              )"
   ]
  },
  {
   "cell_type": "code",
   "execution_count": null,
   "metadata": {},
   "outputs": [],
   "source": [
    "s2_hist = pd.read_hdf(histo_file_out, key='nS2')\n",
    "plt.figure(figsize=(7,5));\n",
    "plt.step(s2_hist.magnitude, s2_hist.entries, where='pre');\n",
    "plt.xlabel('nS2');\n",
    "plt.ylabel('Entries');\n",
    "plt.title('Number of S2 signals');"
   ]
  },
  {
   "cell_type": "code",
   "execution_count": null,
   "metadata": {},
   "outputs": [],
   "source": [
    "eff = dst[mask_s2].event.nunique()/dst[mask_s1].event.nunique()\n",
    "print('S2 selection efficiency: ', eff*100, '%')"
   ]
  },
  {
   "cell_type": "markdown",
   "metadata": {},
   "source": [
    "*Some other S2 plots:*"
   ]
  },
  {
   "cell_type": "code",
   "execution_count": null,
   "metadata": {},
   "outputs": [],
   "source": [
    "s2d = s2d_from_dst(dst)\n",
    "plot_s2histos(dst, s2d, bins=20, emin=1000, emax=15000, figsize=(10,10))"
   ]
  },
  {
   "cell_type": "markdown",
   "metadata": {},
   "source": [
    "### 4th check: Z distribution of events is correct"
   ]
  },
  {
   "cell_type": "code",
   "execution_count": null,
   "metadata": {},
   "outputs": [],
   "source": [
    "check_Z_dst(Z_vect   = dst[mask_s2].Z            ,\n",
    "            ref_hist = ref_histos.Z_dist_hist    ,\n",
    "            n_sigmas = config_values.nsigmas_Zdst)"
   ]
  },
  {
   "cell_type": "code",
   "execution_count": null,
   "metadata": {},
   "outputs": [],
   "source": [
    "plt.figure(figsize=(8,7));\n",
    "plt.title('Z distribution');\n",
    "plt.hist(dst[mask_s2].Z, 10, (0, 550), density=1, histtype='step', alpha=0.7, linewidth=2, label=run_number);\n",
    "plt.errorbar(ref_histos.Z_dist_hist.bin_centres, ref_histos.Z_dist_hist.bin_entries, yerr=ref_histos.Z_dist_hist.err_bin_entries, fmt='.k', label='reference');\n",
    "plt.legend();\n",
    "plt.ylabel('Entries');\n",
    "plt.xlabel('Z (mm)');"
   ]
  },
  {
   "cell_type": "markdown",
   "metadata": {},
   "source": [
    "*And XY distribution:*"
   ]
  },
  {
   "cell_type": "code",
   "execution_count": null,
   "metadata": {},
   "outputs": [],
   "source": [
    "plt.figure(figsize=(10,8))\n",
    "plt.hist2d(dst[mask_s2].X, dst[mask_s2].Y, 100, [(-200,200),(-200,200)])\n",
    "plt.xlabel('X (mm)');\n",
    "plt.xlabel('X (mm)');\n",
    "plt.title('X vs Y');\n",
    "plt.colorbar();"
   ]
  },
  {
   "cell_type": "markdown",
   "metadata": {},
   "source": [
    "### Time stamps"
   ]
  },
  {
   "cell_type": "code",
   "execution_count": null,
   "metadata": {},
   "outputs": [],
   "source": [
    "ts, masks = get_time_series_df(20, (dst.time.values[0],dst.time.values[-1]), dst)\n",
    "fps = time_fcs_df(ts, masks, dst, \n",
    "                  nbins_z = 15,\n",
    "                  nbins_e = 25,\n",
    "                  range_z = (10, 550),\n",
    "                  range_e = (7000, 18000),\n",
    "                  energy  = 'S2e',\n",
    "                  fit     = FitType.profile)\n",
    "plot_time_fcs(fps,\n",
    "              range_chi2  = (0,10),\n",
    "              range_e0    = (100,20000),\n",
    "              range_lt    = (1000, 12000),\n",
    "              figsize     = (12,6))"
   ]
  },
  {
   "cell_type": "markdown",
   "metadata": {},
   "source": [
    "### Band selection (5th check)"
   ]
  },
  {
   "cell_type": "markdown",
   "metadata": {},
   "source": [
    "*Geom. correction with bootstrap map is applied before*:"
   ]
  },
  {
   "cell_type": "code",
   "execution_count": null,
   "metadata": {},
   "outputs": [],
   "source": [
    "draw_xy_maps(bootstrapmap)"
   ]
  },
  {
   "cell_type": "markdown",
   "metadata": {},
   "source": [
    "*Applying geometrical correction:*"
   ]
  },
  {
   "cell_type": "code",
   "execution_count": null,
   "metadata": {},
   "outputs": [],
   "source": [
    "geom_corr = e0_xy_correction(bootstrapmap)\n",
    "corr = geom_corr(dst[mask_s2].X, dst[mask_s2].Y)"
   ]
  },
  {
   "cell_type": "code",
   "execution_count": null,
   "metadata": {},
   "outputs": [],
   "source": [
    "fig = plt.figure(figsize=(14,8))\n",
    "plt.subplot(3, 1, 1)\n",
    "plt.hist2d(dst[mask_s2].Z, dst[mask_s2].S2e, 50, range=[[0,600],[0, 20000]]);\n",
    "\n",
    "plt.title('S2e uncorrected')\n",
    "plt.subplot(3, 1, 2)\n",
    "plt.hist2d(dst[mask_s2].Z, dst[mask_s2].S2e*corr, 50, range=[[0,600],[0, 20000]])\n",
    "plt.title('S2e corrected boot map')\n",
    "\n",
    "plt.subplot(3, 1, 3)\n",
    "plt.hist2d(dst[mask_s2].Z, dst[mask_s2].S2e*corr, 50, range=[[0,600],[9400, 13500]])\n",
    "plt.title('S2e corrected boot map zoom')\n",
    "plt.tight_layout()"
   ]
  },
  {
   "cell_type": "markdown",
   "metadata": {},
   "source": [
    "*Selection:*"
   ]
  },
  {
   "cell_type": "code",
   "execution_count": null,
   "metadata": {},
   "outputs": [],
   "source": [
    "band_sel_params = config_values.band_sel_params\n",
    "mask_band = band_selector_and_check(dst        = dst         ,\n",
    "                                    boot_map   = bootstrapmap,\n",
    "                                    input_mask = mask_s2     ,\n",
    "                                    **band_sel_params        )"
   ]
  },
  {
   "cell_type": "code",
   "execution_count": null,
   "metadata": {},
   "outputs": [],
   "source": [
    "eff = dst[mask_band].event.nunique()/dst[mask_s2].event.nunique()\n",
    "print('Band selection efficiency: ', eff*100, '%')"
   ]
  },
  {
   "cell_type": "code",
   "execution_count": null,
   "metadata": {},
   "outputs": [],
   "source": [
    "emaps = e0_xy_correction(bootstrapmap)\n",
    "E0 = dst[mask_s2].S2e.values * emaps(dst[mask_s2].X.values, dst[mask_s2].Y.values)\n",
    "\n",
    "sel_krband = np.zeros_like(mask_s2)\n",
    "sel_krband[mask_s2], fpl, fph, hp, pp = selection_in_band(dst[mask_s2].Z,\n",
    "                                                           E0,\n",
    "                                                           range_z = band_sel_params['range_Z'],\n",
    "                                                           range_e = band_sel_params['range_E'],\n",
    "                                                           nbins_z = band_sel_params['nbins_z'],\n",
    "                                                           nbins_e = band_sel_params['nbins_e'],\n",
    "                                                           nsigma  = band_sel_params['nsigma_sel'])"
   ]
  },
  {
   "cell_type": "code",
   "execution_count": null,
   "metadata": {},
   "outputs": [],
   "source": [
    "plot_selection_in_band(fpl, fph, hp, pp, nsigma = band_sel_params['nsigma_sel'])"
   ]
  },
  {
   "cell_type": "markdown",
   "metadata": {},
   "source": [
    "*Krypton peak after geometrical correction:*"
   ]
  },
  {
   "cell_type": "code",
   "execution_count": null,
   "metadata": {},
   "outputs": [],
   "source": [
    "corr_band = geom_corr(dst[mask_band].X, dst[mask_band].Y)\n",
    "fig = plt.figure(figsize=(13,6))\n",
    "plt.subplot(1, 2, 1)\n",
    "plt.hist(dst[mask_s2].S2e*corr,  bins = 50, range =(5000,18000))\n",
    "plt.title('Pre-filter');\n",
    "plt.xlabel('E (pes)');\n",
    "plt.ylabel('Entries');\n",
    "plt.subplot(1, 2, 2)\n",
    "plt.hist(dst[mask_band].S2e*corr_band,  bins = 50, range =(5000,18000))\n",
    "plt.title('Post-filter');\n",
    "plt.xlabel('E (pes)');\n",
    "plt.ylabel('Entries');"
   ]
  },
  {
   "cell_type": "markdown",
   "metadata": {},
   "source": [
    "### 6th check: rate after selection"
   ]
  },
  {
   "cell_type": "code",
   "execution_count": null,
   "metadata": {},
   "outputs": [],
   "source": [
    "with pd.HDFStore(histo_file_out, \"r+\", complib=str(\"zlib\"), complevel=4) as store_hist:\n",
    "    check_rate_and_hist(times      = dst[mask_band].time     ,\n",
    "                        output_f   = store_hist              ,\n",
    "                        name_table = \"rate_after_sel\"        ,\n",
    "                        n_dev      = config_values.n_dev_rate,\n",
    "                        bin_size   = 180                     ,\n",
    "                        normed     = False                   )"
   ]
  },
  {
   "cell_type": "code",
   "execution_count": null,
   "metadata": {},
   "outputs": [],
   "source": [
    "rate_after_hist = pd.read_hdf(histo_file_out, key='rate_after_sel')\n",
    "plt.figure(figsize=(15,7));\n",
    "plt.step(rate_after_hist.magnitude, rate_after_hist.entries, where='pre');\n",
    "plt.xlabel('Time (s)');\n",
    "plt.ylabel('Entries');\n",
    "plt.title('Rate after');"
   ]
  },
  {
   "cell_type": "markdown",
   "metadata": {},
   "source": [
    "*Temporal distribution of events before and after selection:*"
   ]
  },
  {
   "cell_type": "code",
   "execution_count": null,
   "metadata": {},
   "outputs": [],
   "source": [
    "plt.figure(figsize=(15,7));\n",
    "plt.fill_between(rate_before_hist.magnitude, rate_before_hist.entries, label='Before', color='orange', alpha=0.5);\n",
    "plt.fill_between(rate_after_hist.magnitude, rate_after_hist.entries, label='After', color='green', alpha=0.5);\n",
    "plt.legend();\n",
    "plt.xlabel('Time (s)');\n",
    "plt.ylabel('Entries');\n",
    "plt.title('Rate');\n",
    "plt.ylim(0, 4000);"
   ]
  },
  {
   "cell_type": "code",
   "execution_count": null,
   "metadata": {},
   "outputs": [],
   "source": [
    "sel_dst = dst[mask_band]"
   ]
  },
  {
   "cell_type": "code",
   "execution_count": null,
   "metadata": {},
   "outputs": [],
   "source": [
    "plt.figure(figsize=(16,6));\n",
    "plt.subplot(1,2,1);\n",
    "plt.hist(sel_dst.Z, bins = 50, range =(0,550))\n",
    "plt.title('Z')\n",
    "plt.xlabel('Z (mm)');\n",
    "plt.subplot(1,2,2);\n",
    "plt.hist2d(sel_dst.X, sel_dst.Y, 100, [(-200,200),(-200,200)])\n",
    "plt.xlabel('X (mm)');\n",
    "plt.xlabel('X (mm)');\n",
    "plt.title('X vs Y');\n",
    "plt.colorbar();"
   ]
  },
  {
   "cell_type": "markdown",
   "metadata": {},
   "source": [
    "If all selection cuts and checks are passed successfully, it is time to create the correction map."
   ]
  },
  {
   "cell_type": "markdown",
   "metadata": {},
   "source": [
    "## Map production"
   ]
  },
  {
   "cell_type": "markdown",
   "metadata": {},
   "source": [
    "#### Selection of number of XY bins"
   ]
  },
  {
   "cell_type": "code",
   "execution_count": null,
   "metadata": {},
   "outputs": [],
   "source": [
    "thr_evts_for_sel_map_bins = config_values.thr_evts_for_sel_map_bins\n",
    "default_n_bins            = config_values.default_n_bins"
   ]
  },
  {
   "cell_type": "markdown",
   "metadata": {},
   "source": [
    "- If the number of evts is greater than 1e6 -> 100x100 map\n",
    "- If the number of evts is lower than 1e6 -> 50x50 map"
   ]
  },
  {
   "cell_type": "code",
   "execution_count": null,
   "metadata": {},
   "outputs": [],
   "source": [
    "number_of_bins = get_binning_auto(nevt_sel                = sel_dst.event.nunique()  ,\n",
    "                                  thr_events_for_map_bins = thr_evts_for_sel_map_bins,\n",
    "                                  n_bins                  = default_n_bins           )\n",
    "print('Number of XY bins: ', number_of_bins, '(', sel_dst.event.nunique(), 'events)')"
   ]
  },
  {
   "cell_type": "markdown",
   "metadata": {},
   "source": [
    "### Map computation"
   ]
  },
  {
   "cell_type": "code",
   "execution_count": null,
   "metadata": {},
   "outputs": [],
   "source": [
    "map_params = config_values.map_params"
   ]
  },
  {
   "cell_type": "code",
   "execution_count": null,
   "metadata": {},
   "outputs": [],
   "source": [
    "warnings.filterwarnings(\"ignore\")\n",
    "logging.disable(logging.DEBUG)\n",
    "this_script_logger = logging.getLogger(__name__)\n",
    "this_script_logger.setLevel(logging.INFO)"
   ]
  },
  {
   "cell_type": "code",
   "execution_count": null,
   "metadata": {},
   "outputs": [],
   "source": [
    "maps = calculate_map(dst        = sel_dst                 ,\n",
    "                     XYbins     = (number_of_bins         ,\n",
    "                                   number_of_bins)        ,\n",
    "                     nbins_z    = map_params['nbins_z']   ,\n",
    "                     nbins_e    = map_params['nbins_e']   ,\n",
    "                     z_range    = map_params['z_range']   ,\n",
    "                     e_range    = map_params['e_range']   ,\n",
    "                     chi2_range = map_params['chi2_range'],\n",
    "                     lt_range   = map_params['lt_range']  ,\n",
    "                     fit_type   = FitType.unbined         ,\n",
    "                     nmin       = map_params['nmin']      ,\n",
    "                     x_range    = map_params['x_range']   ,\n",
    "                     y_range    = map_params['y_range']   )"
   ]
  },
  {
   "cell_type": "markdown",
   "metadata": {},
   "source": [
    "### Last check: number of failed fits"
   ]
  },
  {
   "cell_type": "code",
   "execution_count": null,
   "metadata": {},
   "outputs": [],
   "source": [
    "maxFailed = map_params['maxFailed']\n",
    "r_max     = map_params['r_max']\n",
    "\n",
    "check_failed_fits(maps      = maps          ,\n",
    "                  maxFailed = maxFailed     ,\n",
    "                  nbins     = number_of_bins,\n",
    "                  rmax      = r_max         ,\n",
    "                  rfid      = r_max         )"
   ]
  },
  {
   "cell_type": "markdown",
   "metadata": {},
   "source": [
    "#### chi2 regularization and compute relative error maps, instead of absolute error."
   ]
  },
  {
   "cell_type": "code",
   "execution_count": null,
   "metadata": {},
   "outputs": [],
   "source": [
    "regularized_maps = regularize_map(maps    = maps                    ,\n",
    "                                  x2range = map_params['chi2_range'])\n",
    "\n",
    "regularized_maps = relative_errors(am = regularized_maps)"
   ]
  },
  {
   "cell_type": "markdown",
   "metadata": {},
   "source": [
    "Now, the outer bins are replaced by nans:"
   ]
  },
  {
   "cell_type": "code",
   "execution_count": null,
   "metadata": {},
   "outputs": [],
   "source": [
    "regularized_maps = remove_peripheral(map   = regularized_maps,\n",
    "                                     nbins = number_of_bins  ,\n",
    "                                     rmax  = r_max           ,\n",
    "                                     rfid  = r_max           )"
   ]
  },
  {
   "cell_type": "code",
   "execution_count": null,
   "metadata": {},
   "outputs": [],
   "source": [
    "draw_xy_maps(regularized_maps,\n",
    "             e0lims  = (7000, 14000),\n",
    "             ltlims  = (4500, 12000),\n",
    "             eulims  = (0.0,  1),\n",
    "             lulims  = (0, 10),\n",
    "             figsize=(14,10))"
   ]
  },
  {
   "cell_type": "markdown",
   "metadata": {},
   "source": [
    "#### Mapinfo table is added"
   ]
  },
  {
   "cell_type": "code",
   "execution_count": null,
   "metadata": {},
   "outputs": [],
   "source": [
    "maps = add_mapinfo(asm        = regularized_maps     ,\n",
    "                   xr         = map_params['x_range'],\n",
    "                   yr         = map_params['y_range'],\n",
    "                   nx         = number_of_bins       ,\n",
    "                   ny         = number_of_bins       ,\n",
    "                   run_number = run_number           )\n",
    "print(maps.mapinfo)"
   ]
  },
  {
   "cell_type": "markdown",
   "metadata": {},
   "source": [
    "#### Temporal evolution table is added"
   ]
  },
  {
   "cell_type": "code",
   "execution_count": null,
   "metadata": {},
   "outputs": [],
   "source": [
    "r_fid         = map_params['r_fid']\n",
    "nStimeprofile = map_params['nStimeprofile']\n",
    "add_krevol(maps          = maps                 ,\n",
    "           dst           = sel_dst              ,\n",
    "           r_fid         = r_fid                ,\n",
    "           nStimeprofile = nStimeprofile        ,\n",
    "           x_range       = map_params['x_range'],\n",
    "           y_range       = map_params['y_range'],\n",
    "           XYbins        = (number_of_bins      ,\n",
    "                            number_of_bins     ))\n",
    "temp = maps.t_evol"
   ]
  },
  {
   "cell_type": "code",
   "execution_count": null,
   "metadata": {},
   "outputs": [],
   "source": [
    "plt.figure(figsize=(16, 20));\n",
    "plt.subplot(3,2,1);\n",
    "plt.title('e0');\n",
    "plt.errorbar(temp.ts, temp.e0, temp.e0u, fmt='.', linestyle='-');\n",
    "plt.subplot(3,2,2);\n",
    "plt.title('lt');\n",
    "plt.errorbar(temp.ts, temp['lt'], temp['ltu'], fmt='.', linestyle='-');\n",
    "plt.subplot(3,2,3);\n",
    "plt.title('dv');\n",
    "plt.ylim(0.907, 0.920);\n",
    "plt.errorbar(temp.ts, temp.dv, temp.dvu, fmt='.', linestyle='-');\n",
    "plt.subplot(3,2,4);\n",
    "plt.title('s1e');\n",
    "plt.errorbar(temp.ts, temp.s1e, temp.s1eu, fmt='.', linestyle='-');\n",
    "plt.subplot(3,2,5);\n",
    "plt.title('s2e');\n",
    "plt.errorbar(temp.ts, temp.s2e, temp.s2eu, fmt='.', linestyle='-');\n",
    "plt.subplot(3,2,6);\n",
    "plt.title('Nsipm');\n",
    "plt.errorbar(temp.ts, temp.Nsipm, temp.Nsipmu, fmt='.', linestyle='-');"
   ]
  },
  {
   "cell_type": "markdown",
   "metadata": {},
   "source": [
    "### Writing final map"
   ]
  },
  {
   "cell_type": "code",
   "execution_count": null,
   "metadata": {},
   "outputs": [],
   "source": [
    "write_complete_maps(asm      = maps        ,\n",
    "                    filename = map_file_out)"
   ]
  },
  {
   "cell_type": "markdown",
   "metadata": {},
   "source": [
    "*****"
   ]
  },
  {
   "cell_type": "markdown",
   "metadata": {},
   "source": [
    "# Section C: Checking map <a id='SectionC'></a>\n"
   ]
  },
  {
   "cell_type": "code",
   "execution_count": null,
   "metadata": {},
   "outputs": [],
   "source": [
    "import matplotlib.pyplot as plt\n",
    "import pandas as pd\n",
    "from invisible_cities.reco.corrections_new   import read_maps\n",
    "from invisible_cities.reco.corrections_new   import apply_all_correction\n",
    "from krcal.NB_utils  .xy_maps_functions      import draw_xy_maps\n",
    "\n",
    "from krcal.NB_utils.plt_functions             import h1, h2\n",
    "from krcal.NB_utils.fit_energy_functions      import fit_energy\n",
    "from krcal.NB_utils.plt_energy_functions      import plot_fit_energy, print_fit_energy\n",
    "from krcal.NB_utils.plt_energy_functions      import resolution_r_z, plot_resolution_r_z\n",
    "\n",
    "from krcal.map_builder.map_builder_functions  import e0_xy_correction\n",
    "from krcal.map_builder.map_builder_functions  import load_data\n",
    "from krcal.map_builder.map_builder_functions  import apply_cuts\n",
    "from krcal.map_builder.map_builder_functions  import type_of_signal"
   ]
  },
  {
   "cell_type": "markdown",
   "metadata": {},
   "source": [
    "### Opening map"
   ]
  },
  {
   "cell_type": "code",
   "execution_count": null,
   "metadata": {},
   "outputs": [],
   "source": [
    "try:\n",
    "    final_map = read_maps(map_file_out)\n",
    "except FileNotFoundError:\n",
    "    print('Please run Section A or B. If you have already done it, the dst is not good enough to produce a map :(')"
   ]
  },
  {
   "cell_type": "code",
   "execution_count": null,
   "metadata": {},
   "outputs": [],
   "source": [
    "draw_xy_maps(final_map,\n",
    "             e0lims  = (7000, 14000),\n",
    "             ltlims  = (4500, 12000),\n",
    "             eulims  = (0.0,  1),\n",
    "             lulims  = (0, 10),\n",
    "             figsize=(14,10))"
   ]
  },
  {
   "cell_type": "code",
   "execution_count": null,
   "metadata": {},
   "outputs": [],
   "source": [
    "final_map.mapinfo"
   ]
  },
  {
   "cell_type": "markdown",
   "metadata": {},
   "source": [
    "### Opening and selecting dst (only if section B is not run)"
   ]
  },
  {
   "cell_type": "code",
   "execution_count": null,
   "metadata": {},
   "outputs": [],
   "source": [
    "try :\n",
    "    sel_dst;\n",
    "except NameError:\n",
    "    config_values = config.as_namespace\n",
    "    \n",
    "    inputs = load_data(input_path         = folder_dst                  ,\n",
    "                       input_dsts         = dst_file                    ,\n",
    "                       file_bootstrap_map = file_bootstrap              ,\n",
    "                       quality_ranges     = config_values.quality_ranges,\n",
    "                       **config_values.ref_Z_histogram                  )\n",
    "\n",
    "    dst, bootstrapmap, ref_histos = inputs[0], inputs[1], inputs[2]\n",
    "    \n",
    "    with pd.HDFStore(histo_file_out, \"r+\", complib=str(\"zlib\"), complevel=4) as store_hist:\n",
    "        sel_dst = apply_cuts(dst              = dst                           ,\n",
    "                             S1_signal        = type_of_signal.nS1            ,\n",
    "                             nS1_eff_interval = (config_values.nS1_eff_min    ,\n",
    "                                                 config_values.nS1_eff_max)   ,\n",
    "                             store_hist_s1    = store_hist                    ,\n",
    "                             ns1_histo_params = config_values.ns1_histo_params,\n",
    "                             S2_signal        = type_of_signal.nS2            ,\n",
    "                             nS2_eff_interval = (config_values.nS2_eff_min    ,\n",
    "                                                 config_values.nS2_eff_max)   ,\n",
    "                             store_hist_s2    = store_hist                    ,\n",
    "                             ns2_histo_params = config_values.ns2_histo_params,\n",
    "                             nsigmas_Zdst     = config_values.nsigmas_Zdst    ,\n",
    "                             ref_Z_histo      = ref_histos.\n",
    "                                                    Z_dist_hist               ,\n",
    "                             bootstrapmap     = bootstrapmap                  ,\n",
    "                             band_sel_params  = config_values.band_sel_params )"
   ]
  },
  {
   "cell_type": "markdown",
   "metadata": {},
   "source": [
    "### Applying corrections to the selected dst"
   ]
  },
  {
   "cell_type": "code",
   "execution_count": null,
   "metadata": {},
   "outputs": [],
   "source": [
    "sel_dst = sel_dst[sel_dst.R<170]"
   ]
  },
  {
   "cell_type": "code",
   "execution_count": null,
   "metadata": {},
   "outputs": [],
   "source": [
    "geom_corr = e0_xy_correction(final_map)\n",
    "total_correction = apply_all_correction(final_map, apply_temp=True)\n",
    "\n",
    "corr_geo = geom_corr(sel_dst.X, sel_dst.Y)\n",
    "corr_tot = total_correction(sel_dst.X, sel_dst.Y, sel_dst.Z, sel_dst.time)"
   ]
  },
  {
   "cell_type": "code",
   "execution_count": null,
   "metadata": {},
   "outputs": [],
   "source": [
    "fig = plt.figure(figsize=(10,10))\n",
    "plt.subplot(3, 1, 1)\n",
    "plt.hist2d(sel_dst.Z, sel_dst.S2e, 50, [(0,600),(6000,14000)])\n",
    "plt.title('Raw energy');\n",
    "plt.subplot(3, 1, 2)\n",
    "plt.hist2d(sel_dst.Z, sel_dst.S2e*corr_geo, 50, [(0,600),(6000,14000)])\n",
    "plt.title('Geom. corrected energy');\n",
    "plt.subplot(3, 1, 3)\n",
    "plt.hist2d(sel_dst.Z, sel_dst.S2e*corr_tot, 50, [(0,600),(6000,14000)])\n",
    "plt.title('Total corrected energy');"
   ]
  },
  {
   "cell_type": "code",
   "execution_count": null,
   "metadata": {},
   "outputs": [],
   "source": [
    "e_range = (8000,16000)\n",
    "zrange = (10,550)\n",
    "fig = plt.figure(figsize=(14,8))\n",
    "plt.subplot(1, 2, 1)\n",
    "\n",
    "nevt = h2(sel_dst.Z, sel_dst.S2e*corr_tot, 30, 30, zrange, e_range, profile=True)\n",
    "plt.xlabel('Z (mm)');\n",
    "plt.ylabel('E (pes)');\n",
    "plt.title('E vs Z');\n",
    "\n",
    "ax      = fig.add_subplot(1, 2, 2)\n",
    "(_)     = h1(sel_dst.S2e*corr_tot,  bins = 100, range =e_range, stats=True, lbl = 'E')\n",
    "plt.xlabel('E (pes)');\n",
    "plt.ylabel('Entries');\n",
    "plt.title('E corr');"
   ]
  },
  {
   "cell_type": "code",
   "execution_count": null,
   "metadata": {},
   "outputs": [],
   "source": [
    "fc = fit_energy(sel_dst.S2e*corr_tot, nbins=100, range=(12000, 14000))\n",
    "plot_fit_energy(fc)\n",
    "print_fit_energy(fc)"
   ]
  },
  {
   "cell_type": "code",
   "execution_count": null,
   "metadata": {},
   "outputs": [],
   "source": [
    "Ri = (50, 100,150,170)\n",
    "Zi = (50, 100,200,300,500)\n",
    "\n",
    "FC, FCE = resolution_r_z(Ri, Zi, sel_dst.R, sel_dst.Z, sel_dst.S2e*corr_tot,\n",
    "                    enbins = 50,\n",
    "                    erange = (12000,14000),\n",
    "                    ixy = (5,4),\n",
    "                    fdraw  = True,\n",
    "                    fprint = False,\n",
    "                    figsize = (18,10)) "
   ]
  },
  {
   "cell_type": "code",
   "execution_count": null,
   "metadata": {},
   "outputs": [],
   "source": [
    "plot_resolution_r_z(Ri, Zi, FC, FCE, r_range=(2,6))"
   ]
  },
  {
   "cell_type": "code",
   "execution_count": null,
   "metadata": {},
   "outputs": [],
   "source": []
  },
  {
   "cell_type": "code",
   "execution_count": null,
   "metadata": {},
   "outputs": [],
   "source": []
  }
 ],
 "metadata": {
  "kernelspec": {
   "display_name": "Python 3",
   "language": "python",
   "name": "python3"
  },
  "language_info": {
   "codemirror_mode": {
    "name": "ipython",
    "version": 3
   },
   "file_extension": ".py",
   "mimetype": "text/x-python",
   "name": "python",
   "nbconvert_exporter": "python",
   "pygments_lexer": "ipython3",
   "version": "3.7.0"
  }
 },
 "nbformat": 4,
 "nbformat_minor": 2
}
