{
 "cells": [
  {
   "cell_type": "markdown",
   "metadata": {},
   "source": [
    "# Liquid cities tutorial"
   ]
  },
  {
   "cell_type": "code",
   "execution_count": 1,
   "metadata": {},
   "outputs": [
    {
     "name": "stdout",
     "output_type": "stream",
     "text": [
      "2019-01-25 09:33:57\n"
     ]
    }
   ],
   "source": [
    "import os\n",
    "import datetime\n",
    "print(datetime.datetime.now().strftime('%Y-%m-%d %H:%M:%S'))\n",
    "\n",
    "import time\n",
    "import glob\n",
    "import tables as tb\n",
    "import numpy as np\n",
    "import numpy.testing as npt\n",
    "import pandas as pd\n",
    "import matplotlib.pyplot as plt\n",
    "from functools import reduce\n",
    "%matplotlib inline\n",
    "%load_ext autoreload\n",
    "%autoreload 2\n",
    "\n",
    "plt.rcParams[\"figure.figsize\"] = 10, 8\n",
    "plt.rcParams[\"font.size\"     ] = 14"
   ]
  },
  {
   "cell_type": "code",
   "execution_count": 2,
   "metadata": {},
   "outputs": [],
   "source": [
    "import invisible_cities.dataflow.dataflow as fl\n",
    "from invisible_cities.sierpe  import fee as FE\n",
    "import invisible_cities.core.system_of_units as units"
   ]
  },
  {
   "cell_type": "code",
   "execution_count": 3,
   "metadata": {},
   "outputs": [],
   "source": [
    "from functools   import wraps\n",
    "from functools   import reduce\n",
    "from contextlib  import contextmanager\n",
    "from collections import namedtuple\n",
    "from typing import  NamedTuple"
   ]
  },
  {
   "cell_type": "markdown",
   "metadata": {},
   "source": [
    "## Tutorial"
   ]
  },
  {
   "cell_type": "markdown",
   "metadata": {},
   "source": [
    "### Analysis flow"
   ]
  },
  {
   "cell_type": "markdown",
   "metadata": {},
   "source": [
    "- Generation of toy waveforms representing the impulse response of a PMT\n",
    "- Convolution with the FEE\n",
    "- Deconvolution\n",
    "- Comparison of the area of the original function with the area of the deconvoluted function"
   ]
  },
  {
   "cell_type": "markdown",
   "metadata": {},
   "source": [
    "#### Waveform representation"
   ]
  },
  {
   "cell_type": "code",
   "execution_count": 4,
   "metadata": {},
   "outputs": [],
   "source": [
    "class Waveform(NamedTuple):\n",
    "    t   : np.ndarray\n",
    "    q   : np.ndarray"
   ]
  },
  {
   "cell_type": "markdown",
   "metadata": {},
   "source": [
    "#### A toy waveform function"
   ]
  },
  {
   "cell_type": "markdown",
   "metadata": {},
   "source": [
    "- Simulate signal as a simple saw-function\n",
    "- The effect of the electronics is (to first order) a HPF that introduces a derivative in the waveform"
   ]
  },
  {
   "cell_type": "markdown",
   "metadata": {},
   "source": [
    "#### FEE instance (no noise)"
   ]
  },
  {
   "cell_type": "code",
   "execution_count": 5,
   "metadata": {},
   "outputs": [],
   "source": [
    "fee_nn = FE.FEE(noise_FEEPMB_rms=0*units.mA, noise_DAQ_rms=0)"
   ]
  },
  {
   "cell_type": "markdown",
   "metadata": {},
   "source": [
    "#### FEE instance including noise"
   ]
  },
  {
   "cell_type": "code",
   "execution_count": 6,
   "metadata": {},
   "outputs": [],
   "source": [
    "fee = FE.FEE(noise_FEEPMB_rms=1*FE.NOISE_I,noise_DAQ_rms=FE.NOISE_DAQ)"
   ]
  },
  {
   "cell_type": "code",
   "execution_count": 7,
   "metadata": {},
   "outputs": [],
   "source": [
    "def input_and_fee_waveforms(fee):\n",
    "    \"\"\"\n",
    "    Returns:\n",
    "    1. The \"theoretical (input) Waveform\"\n",
    "    2. A Waveform convoluted with the effect of FEE\n",
    "    \"\"\"\n",
    "    signal_i = np.concatenate((np.zeros(1000), \n",
    "                               np.linspace(0,0.5,2000), \n",
    "                               np.linspace(0.5,0,1000),\n",
    "                               np.linspace(0,1,1000),\n",
    "                               np.linspace(1,0,2000),\n",
    "                               np.linspace(0,1,2000),\n",
    "                               np.linspace(1,0,2000),\n",
    "                               np.zeros(20000)),axis=0)*units.mA\n",
    "    \n",
    "    t = np.arange(0, np.size(signal_i), 1) * units.ns\n",
    "    signal_out = FE.signal_v_fee(fee, signal_i, -1) * FE.v_to_adc()\n",
    "    signal_out2 = FE.noise_adc(fee, signal_out)\n",
    "    \n",
    "    return Waveform(t, signal_i*FE.i_to_adc()), Waveform(t, signal_out2) "
   ]
  },
  {
   "cell_type": "code",
   "execution_count": 8,
   "metadata": {},
   "outputs": [],
   "source": [
    "wf_i, wf_fee = input_and_fee_waveforms(fee)"
   ]
  },
  {
   "cell_type": "code",
   "execution_count": 9,
   "metadata": {},
   "outputs": [
    {
     "data": {
      "image/png": "[encoded data removed]",
      "text/plain": [
       "<Figure size 432x288 with 1 Axes>"
      ]
     },
     "metadata": {
      "needs_background": "light"
     },
     "output_type": "display_data"
    }
   ],
   "source": [
    "plt.plot(wf_i.t, wf_i.q, 'b', label='input (true) waveform')\n",
    "plt.plot(wf_fee.t, wf_fee.q, 'r', label='waveform after FEE')\n",
    "plt.grid(True)\n",
    "plt.xlabel(r't (ns)')\n",
    "plt.ylabel(r'i (adc)')\n",
    "legend = plt.legend(loc='best')"
   ]
  },
  {
   "cell_type": "markdown",
   "metadata": {},
   "source": [
    "### Deconvolution"
   ]
  },
  {
   "cell_type": "markdown",
   "metadata": {},
   "source": [
    "- In the absence of noise, a simple deconvolution (deconv_simple) is sufficient."
   ]
  },
  {
   "cell_type": "code",
   "execution_count": 10,
   "metadata": {},
   "outputs": [],
   "source": [
    "def deconv_simple(signal, coef):\n",
    "    \"\"\"\n",
    "    Deconvolution of the fine-grained fee signal (no DAQ)\n",
    "    no noise\n",
    "    using true start and end of signals\n",
    "    \"\"\"\n",
    "\n",
    "    acum = np.zeros(len(signal))\n",
    "\n",
    "    acum[0]=coef * signal[0]\n",
    "    for n in np.arange(1, len(signal)):\n",
    "        acum[n] = acum[n-1] + signal[n]\n",
    "\n",
    "    signal_r = signal + coef*acum\n",
    "\n",
    "    return signal_r, acum"
   ]
  },
  {
   "cell_type": "code",
   "execution_count": 11,
   "metadata": {},
   "outputs": [],
   "source": [
    "def blr(fee, wf):\n",
    "    coef = fee.freq_LHPFd*np.pi\n",
    "    signal_out_cf = FE.signal_clean(fee, wf.q, -1)\n",
    "    signal_r, _ = deconv_simple(signal_out_cf, coef)\n",
    "    return Waveform(wf.t, signal_r)\n",
    "    "
   ]
  },
  {
   "cell_type": "code",
   "execution_count": 12,
   "metadata": {},
   "outputs": [],
   "source": [
    "wf_r = blr(fee, wf_fee)"
   ]
  },
  {
   "cell_type": "code",
   "execution_count": 13,
   "metadata": {},
   "outputs": [
    {
     "data": {
      "image/png": "[encoded data removed]",
      "text/plain": [
       "<Figure size 432x288 with 1 Axes>"
      ]
     },
     "metadata": {
      "needs_background": "light"
     },
     "output_type": "display_data"
    }
   ],
   "source": [
    "plt.plot(wf_i.t, wf_i.q, 'b', label='input (true) waveform')\n",
    "plt.plot(wf_fee.t, wf_fee.q, 'r', label='waveform after FEE')\n",
    "plt.plot(wf_r.t,wf_r.q,'k--', label='deconvoluted waveform')\n",
    "plt.grid(True)\n",
    "plt.xlabel(r't (ns)')\n",
    "plt.ylabel(r'i (adc)')\n",
    "legend = plt.legend(loc='best')"
   ]
  },
  {
   "cell_type": "markdown",
   "metadata": {},
   "source": [
    "#### Excellent agreement between deconvoluted and original waveform"
   ]
  },
  {
   "cell_type": "markdown",
   "metadata": {},
   "source": [
    "### Compare area of deconvoluted and original: show that difference is very small"
   ]
  },
  {
   "cell_type": "code",
   "execution_count": 14,
   "metadata": {},
   "outputs": [],
   "source": [
    "def energy_comparison(wf_i, wf_r):\n",
    "    energy_r = np.sum(wf_r.q[1000:11000])\n",
    "    energy_i = np.sum(wf_i.q)\n",
    "    return 100 * abs(energy_i - energy_r) / energy_i"
   ]
  },
  {
   "cell_type": "code",
   "execution_count": 15,
   "metadata": {},
   "outputs": [],
   "source": [
    "def noise_calculation(wf_fee):\n",
    "    return np.std(wf_fee.q[25000:26000], ddof=1)\n",
    "    "
   ]
  },
  {
   "cell_type": "code",
   "execution_count": 16,
   "metadata": {},
   "outputs": [
    {
     "name": "stdout",
     "output_type": "stream",
     "text": [
      "Error in Energy Computation (%) = 0.006984534577525847\n",
      "FEE noise  = 0.7187286638507082\n"
     ]
    }
   ],
   "source": [
    "energy_diff = energy_comparison(wf_i, wf_r)\n",
    "print('Error in Energy Computation (%) = {}'.format(energy_diff))\n",
    "print('FEE noise  = {}'.format(noise_calculation(wf_fee)))"
   ]
  },
  {
   "cell_type": "markdown",
   "metadata": {},
   "source": [
    "## Loop based analysis"
   ]
  },
  {
   "cell_type": "code",
   "execution_count": 17,
   "metadata": {},
   "outputs": [],
   "source": [
    "events_to_run = 1000\n",
    "ediff = []\n",
    "noise = []\n",
    "\n",
    "for event_number in range(events_to_run):\n",
    "    wf_i, wf_fee =input_and_fee_waveforms(fee)\n",
    "    wf_r         = blr(fee, wf_fee)\n",
    "    \n",
    "    ediff.append(energy_comparison(wf_i, wf_r))\n",
    "    noise.append(noise_calculation(wf_fee))\n",
    "\n",
    "h_noise, _ = np.histogram(noise, bins=10)\n",
    "h_ediff, _ = np.histogram(ediff, bins=10)\n",
    "\n",
    "\n",
    "    "
   ]
  },
  {
   "cell_type": "code",
   "execution_count": 18,
   "metadata": {},
   "outputs": [
    {
     "data": {
      "text/plain": [
       "Text(0, 0.5, 'Frequency')"
      ]
     },
     "execution_count": 18,
     "metadata": {},
     "output_type": "execute_result"
    },
    {
     "data": {
      "image/png": "[encoded data removed]",
      "text/plain": [
       "<Figure size 432x288 with 1 Axes>"
      ]
     },
     "metadata": {
      "needs_background": "light"
     },
     "output_type": "display_data"
    }
   ],
   "source": [
    "h2_noise, _, _ = plt.hist(noise, 10)\n",
    "plt.title(\"FEE noise\")\n",
    "plt.xlabel(\"Value\")\n",
    "plt.ylabel(\"Frequency\")"
   ]
  },
  {
   "cell_type": "code",
   "execution_count": 19,
   "metadata": {},
   "outputs": [
    {
     "data": {
      "text/plain": [
       "Text(0, 0.5, 'Frequency')"
      ]
     },
     "execution_count": 19,
     "metadata": {},
     "output_type": "execute_result"
    },
    {
     "data": {
      "image/png": "[encoded data removed]",
      "text/plain": [
       "<Figure size 432x288 with 1 Axes>"
      ]
     },
     "metadata": {
      "needs_background": "light"
     },
     "output_type": "display_data"
    }
   ],
   "source": [
    "h2_ediff, _, _ = plt.hist(ediff, 10)\n",
    "plt.title(\"Energy difference (in %)\")\n",
    "plt.xlabel(\"Value\")\n",
    "plt.ylabel(\"Frequency\")"
   ]
  },
  {
   "cell_type": "markdown",
   "metadata": {},
   "source": [
    "## Flow based analysis"
   ]
  },
  {
   "cell_type": "markdown",
   "metadata": {},
   "source": [
    "## Analysis flow"
   ]
  },
  {
   "cell_type": "markdown",
   "metadata": {},
   "source": [
    "- A flow needs: \n",
    "\n",
    "- A source, to generate the waveforms.\n",
    "- A pipe where the data will be transformed\n",
    "- A sink to collect the results of the analysis"
   ]
  },
  {
   "cell_type": "markdown",
   "metadata": {},
   "source": [
    "## City components"
   ]
  },
  {
   "cell_type": "markdown",
   "metadata": {},
   "source": [
    "### Source"
   ]
  },
  {
   "cell_type": "code",
   "execution_count": 20,
   "metadata": {},
   "outputs": [],
   "source": [
    "def waveform_generator(fee, events):\n",
    "    for event_number in range(events):\n",
    "        wf_i, wf_fee =input_and_fee_waveforms(fee)\n",
    "        yield dict(wf_i=wf_i, wf_fee=wf_fee, event_number=event_number)"
   ]
  },
  {
   "cell_type": "code",
   "execution_count": 21,
   "metadata": {},
   "outputs": [
    {
     "data": {
      "text/plain": [
       "{'wf_i': Waveform(t=array([0.0000e+00, 1.0000e+00, 2.0000e+00, ..., 3.0997e+04, 3.0998e+04,\n",
       "        3.0999e+04]), q=array([0., 0., 0., ..., 0., 0., 0.])),\n",
       " 'wf_fee': Waveform(t=array([0.0000e+00, 1.0000e+00, 2.0000e+00, ..., 3.0997e+04, 3.0998e+04,\n",
       "        3.0999e+04]), q=array([ 0.12546742,  0.76553599,  0.53216795, ...,  0.2619247 ,\n",
       "        -0.43149179,  0.60461155])),\n",
       " 'event_number': 1}"
      ]
     },
     "execution_count": 21,
     "metadata": {},
     "output_type": "execute_result"
    }
   ],
   "source": [
    "wg = waveform_generator(fee, 10)\n",
    "next(wg)\n",
    "next(wg)"
   ]
  },
  {
   "cell_type": "markdown",
   "metadata": {},
   "source": [
    "### Maps the deconvolution of the waveform to the data flow"
   ]
  },
  {
   "cell_type": "code",
   "execution_count": 22,
   "metadata": {},
   "outputs": [],
   "source": [
    "def waveform_deconvolution(fee):\n",
    "    coef = fee.freq_LHPFd*np.pi\n",
    "    \n",
    "    def deconvolution_waveform(wf):\n",
    "        signal_out_cf = FE.signal_clean(fee, wf.q, -1)\n",
    "        signal_r, _ = deconv_simple(signal_out_cf,coef)\n",
    "        return Waveform(wf.t, signal_r)\n",
    "    return deconvolution_waveform"
   ]
  },
  {
   "cell_type": "markdown",
   "metadata": {},
   "source": [
    "### Maps the comparison of energy between true and deconvoluted waveforms to the data flow"
   ]
  },
  {
   "cell_type": "code",
   "execution_count": 23,
   "metadata": {},
   "outputs": [],
   "source": [
    "def compare_energy(tmin=1000, tmax=11000):\n",
    "    def energy_comparison(wf_i, wf_r):\n",
    "        energy_r = np.sum(wf_r.q[tmin:tmax])\n",
    "        energy_i = np.sum(wf_i.q)\n",
    "        return 100 * abs(energy_i - energy_r)/energy_i\n",
    "    return energy_comparison"
   ]
  },
  {
   "cell_type": "markdown",
   "metadata": {},
   "source": [
    "### Maps the calculation of the FEE noise to the data flow"
   ]
  },
  {
   "cell_type": "code",
   "execution_count": 24,
   "metadata": {},
   "outputs": [],
   "source": [
    "def calculate_noise(tmin=1000, tmax=11000):\n",
    "    def noise_calculation(wf_fee):\n",
    "        return np.std(wf_fee.q[tmin:tmax],ddof=1)\n",
    "    return noise_calculation"
   ]
  },
  {
   "cell_type": "code",
   "execution_count": 25,
   "metadata": {},
   "outputs": [],
   "source": [
    "def print_every(N):\n",
    "    counter = fl.count()\n",
    "    return fl.branch(fl.map  (lambda _: next(counter), args=\"event_number\", out=\"index\"),\n",
    "                     fl.slice(None, None, N),\n",
    "                     fl.sink (lambda data: print(f\"events processed: {data['index']}, event number: {data['event_number']}\")))\n"
   ]
  },
  {
   "cell_type": "markdown",
   "metadata": {},
   "source": [
    "## City of Esmeralda"
   ]
  },
  {
   "cell_type": "markdown",
   "metadata": {},
   "source": [
    "In a liquid city, functions are mapped to the data flow, usually by the operation \n",
    "\n",
    "*fl.map(function_to_be_mapped, args = ('input_data1, input_data2...), out = ('output_data1, output_data2...')*\n",
    "\n",
    "For example, the operation of deconvolution takes as input deta the FEE waveforms, which have been sent to the data flow (by the source) with the name \"wf_fee\" (in waveform generator):\n",
    "\n",
    "*yield dict(wf_i=wf_i, wf_fee=wf_fee, event_number=event_number)*\n",
    "\n",
    "and outputs (to the data flow dict) deconvoluted waveforms, which are stored as \"wf_r\". Thus:\n",
    "\n",
    "**deconvolution_waveform  = fl.map(waveform_deconvolution(fee), args=\"wf_fee\" , out=\"wf_r\")**\n",
    "\n",
    "Notice that:\n",
    "\n",
    "- waveform_deconvolution has been defined as a component. It returns a function that performs the deconvolution and is mapped to the data flow by fl.map. It accepts \"wf_fee\" from the data flow dictionary (previously put there by the source) and the data that it produces (the deconvoluted waveform) is sent to the data flow dictionary.\n",
    "\n",
    "- deconvolution_waveform is the name of the component to go to the flow (a piece in the data transformation pipe). Notice the convention. The function inside the map is in attrgetter style (waveform_deconvolution), the function that goes to the pipe in the getattr style (deconvolution_waveform)\n",
    "\n",
    "In Esmeralda the data is transformed as follows:\n",
    "\n",
    "1. The source produces wf_i (\"true waveforms\") and wf_fee (waveforms with the effect of FEE)\n",
    "2. The first transformation in the pipe deconvolutes the wf_fee waveform and produces Wf_r.\n",
    "3. Then the data is forked towards two sinks. \n",
    "\n",
    "   3.1 The first pipe computes the difference between the energy of wf_i and the energy of wf_r and the sink accumulates the result in r_ediff. \n",
    "   3.2 The second pipe computes the noise of wf_fee and the sink accumulates the result in r_noise\n",
    "\n",
    "4. The flow includes a counter and a slice to control the number of events that pass through the flow. \n"
   ]
  },
  {
   "cell_type": "code",
   "execution_count": 26,
   "metadata": {},
   "outputs": [],
   "source": [
    "def esmeralda(event_range=(0,100), print_mod=1, noise_f=1, noise_daq=1):\n",
    "    \"\"\"This city:\n",
    "    - accepts waveforms (\"true\" and \"convoluted\") from the source\n",
    "    - deconvolutes the waveforms\n",
    "    - compares the deconvoluted (\"blr\") waveform with the \"true\" waveform, \n",
    "      producing an histogram of energy difference\n",
    "    - produces an histogram of FEE noise\n",
    "    \"\"\"\n",
    "    \n",
    "    fee = FE.FEE(noise_FEEPMB_rms=noise_f * FE.NOISE_I, noise_DAQ_rms=noise_daq * FE.NOISE_DAQ)\n",
    "    \n",
    "  \n",
    "    deconvolution_waveform  = fl.map(waveform_deconvolution(fee),           args=\"wf_fee\" ,        out=\"wf_r\")\n",
    "    energy_comparison       = fl.map(compare_energy(tmin=1000, tmax=11000), args=(\"wf_i\", \"wf_r\"), out=\"ediff_wi_wr\")\n",
    "    noise_calculation       = fl.map(calculate_noise(25000,26000),          args=\"wf_fee\"        , out=\"noise_fee\")\n",
    "    \n",
    "    r_ediff = []    \n",
    "    r_noise = []\n",
    "    \n",
    "    ediff = fl.sink(r_ediff.append, args=\"ediff_wi_wr\")   #the flow ends in a sink that fills the container\n",
    "    noise = fl.sink(r_noise.append, args=\"noise_fee\")    \n",
    "\n",
    "    event_count = fl.count()  \n",
    "    out = fl.push(\n",
    "                  source =  waveform_generator(fee, event_range[1]),\n",
    "                  pipe   = fl.pipe(fl.slice(*event_range),\n",
    "                                   deconvolution_waveform,\n",
    "                                   fl.fork((energy_comparison,   ediff),\n",
    "                                           (noise_calculation,   noise),\n",
    "                                           (        event_count.sink))),\n",
    "                  result = (event_count.future))\n",
    "    return out, r_ediff, r_noise\n",
    "    \n",
    "                                           "
   ]
  },
  {
   "cell_type": "code",
   "execution_count": 27,
   "metadata": {},
   "outputs": [],
   "source": [
    "cnt,  ediff, noise = esmeralda(event_range=(0,1000), print_mod=1, noise_f=1, noise_daq=1)"
   ]
  },
  {
   "cell_type": "code",
   "execution_count": 28,
   "metadata": {},
   "outputs": [
    {
     "name": "stdout",
     "output_type": "stream",
     "text": [
      "number of events run = 1000\n"
     ]
    }
   ],
   "source": [
    "print('number of events run = {}'.format(cnt))"
   ]
  },
  {
   "cell_type": "code",
   "execution_count": 29,
   "metadata": {},
   "outputs": [
    {
     "data": {
      "text/plain": [
       "Text(0, 0.5, 'Frequency')"
      ]
     },
     "execution_count": 29,
     "metadata": {},
     "output_type": "execute_result"
    },
    {
     "data": {
      "image/png": "[encoded data removed]",
      "text/plain": [
       "<Figure size 432x288 with 1 Axes>"
      ]
     },
     "metadata": {
      "needs_background": "light"
     },
     "output_type": "display_data"
    }
   ],
   "source": [
    "h2_ediff, _, _ = plt.hist(ediff, 10)\n",
    "plt.title(\"Energy difference abs(w_i - w_r) (in %)\")\n",
    "plt.xlabel(\"Value\")\n",
    "plt.ylabel(\"Frequency\")"
   ]
  },
  {
   "cell_type": "code",
   "execution_count": 30,
   "metadata": {},
   "outputs": [
    {
     "data": {
      "text/plain": [
       "Text(0, 0.5, 'Frequency')"
      ]
     },
     "execution_count": 30,
     "metadata": {},
     "output_type": "execute_result"
    },
    {
     "data": {
      "image/png": "[encoded data removed]",
      "text/plain": [
       "<Figure size 432x288 with 1 Axes>"
      ]
     },
     "metadata": {
      "needs_background": "light"
     },
     "output_type": "display_data"
    }
   ],
   "source": [
    "h2_noise, _, _ = plt.hist(noise, 10)\n",
    "plt.title(\"FEE noise\")\n",
    "plt.xlabel(\"Value\")\n",
    "plt.ylabel(\"Frequency\")"
   ]
  },
  {
   "cell_type": "code",
   "execution_count": null,
   "metadata": {
    "collapsed": true
   },
   "outputs": [],
   "source": []
  }
 ],
 "metadata": {
  "kernelspec": {
   "display_name": "Python 3",
   "language": "python",
   "name": "python3"
  },
  "language_info": {
   "codemirror_mode": {
    "name": "ipython",
    "version": 3
   },
   "file_extension": ".py",
   "mimetype": "text/x-python",
   "name": "python",
   "nbconvert_exporter": "python",
   "pygments_lexer": "ipython3",
   "version": "3.7.1"
  }
 },
 "nbformat": 4,
 "nbformat_minor": 2
}
